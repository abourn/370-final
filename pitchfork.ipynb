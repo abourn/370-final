{
 "cells": [
  {
   "cell_type": "code",
   "execution_count": 4,
   "metadata": {},
   "outputs": [],
   "source": [
    "import numpy as np\n",
    "import pandas as pd\n",
    "import matplotlib.pyplot as plt\n",
    "import nltk\n",
    "import statsmodels.formula.api as smf\n",
    "from nltk.tokenize import RegexpTokenizer\n",
    "tokenizer = RegexpTokenizer(r'\\w+')"
   ]
  },
  {
   "cell_type": "code",
   "execution_count": 5,
   "metadata": {
    "collapsed": true
   },
   "outputs": [],
   "source": [
    "# Load in data\n",
    "data = pd.read_csv('data/p4kreviews.csv', encoding='latin1', index_col=[0])"
   ]
  },
  {
   "cell_type": "markdown",
   "metadata": {},
   "source": [
    "First, let's look at the structure of the data:"
   ]
  },
  {
   "cell_type": "code",
   "execution_count": 6,
   "metadata": {},
   "outputs": [
    {
     "data": {
      "text/html": [
       "<div>\n",
       "<style>\n",
       "    .dataframe thead tr:only-child th {\n",
       "        text-align: right;\n",
       "    }\n",
       "\n",
       "    .dataframe thead th {\n",
       "        text-align: left;\n",
       "    }\n",
       "\n",
       "    .dataframe tbody tr th {\n",
       "        vertical-align: top;\n",
       "    }\n",
       "</style>\n",
       "<table border=\"1\" class=\"dataframe\">\n",
       "  <thead>\n",
       "    <tr style=\"text-align: right;\">\n",
       "      <th></th>\n",
       "      <th>album</th>\n",
       "      <th>artist</th>\n",
       "      <th>best</th>\n",
       "      <th>date</th>\n",
       "      <th>genre</th>\n",
       "      <th>review</th>\n",
       "      <th>score</th>\n",
       "    </tr>\n",
       "  </thead>\n",
       "  <tbody>\n",
       "    <tr>\n",
       "      <th>1</th>\n",
       "      <td>A.M./Being There</td>\n",
       "      <td>Wilco</td>\n",
       "      <td>1</td>\n",
       "      <td>December 6 2017</td>\n",
       "      <td>Rock</td>\n",
       "      <td>Best new reissue 1 / 2 Albums Newly reissued a...</td>\n",
       "      <td>7.0</td>\n",
       "    </tr>\n",
       "    <tr>\n",
       "      <th>2</th>\n",
       "      <td>No Shame</td>\n",
       "      <td>Hopsin</td>\n",
       "      <td>0</td>\n",
       "      <td>December 6 2017</td>\n",
       "      <td>Rap</td>\n",
       "      <td>On his corrosive fifth album, the rapper takes...</td>\n",
       "      <td>3.5</td>\n",
       "    </tr>\n",
       "    <tr>\n",
       "      <th>3</th>\n",
       "      <td>Material Control</td>\n",
       "      <td>Glassjaw</td>\n",
       "      <td>0</td>\n",
       "      <td>December 6 2017</td>\n",
       "      <td>Rock</td>\n",
       "      <td>On their first album in 15 years, the Long Isl...</td>\n",
       "      <td>6.6</td>\n",
       "    </tr>\n",
       "    <tr>\n",
       "      <th>4</th>\n",
       "      <td>Weighing of the Heart</td>\n",
       "      <td>Nabihah Iqbal</td>\n",
       "      <td>0</td>\n",
       "      <td>December 6 2017</td>\n",
       "      <td>Pop/R&amp;B</td>\n",
       "      <td>On her debut LP, British producer Nabihah Iqba...</td>\n",
       "      <td>7.7</td>\n",
       "    </tr>\n",
       "    <tr>\n",
       "      <th>5</th>\n",
       "      <td>The Visitor</td>\n",
       "      <td>Neil Young / Promise of the Real</td>\n",
       "      <td>0</td>\n",
       "      <td>December 5 2017</td>\n",
       "      <td>Rock</td>\n",
       "      <td>While still pointedly political, Neil Youngs ...</td>\n",
       "      <td>6.7</td>\n",
       "    </tr>\n",
       "  </tbody>\n",
       "</table>\n",
       "</div>"
      ],
      "text/plain": [
       "                   album                            artist  best  \\\n",
       "1       A.M./Being There                             Wilco     1   \n",
       "2               No Shame                            Hopsin     0   \n",
       "3       Material Control                          Glassjaw     0   \n",
       "4  Weighing of the Heart                     Nabihah Iqbal     0   \n",
       "5            The Visitor  Neil Young / Promise of the Real     0   \n",
       "\n",
       "              date    genre  \\\n",
       "1  December 6 2017     Rock   \n",
       "2  December 6 2017      Rap   \n",
       "3  December 6 2017     Rock   \n",
       "4  December 6 2017  Pop/R&B   \n",
       "5  December 5 2017     Rock   \n",
       "\n",
       "                                              review  score  \n",
       "1  Best new reissue 1 / 2 Albums Newly reissued a...    7.0  \n",
       "2  On his corrosive fifth album, the rapper takes...    3.5  \n",
       "3  On their first album in 15 years, the Long Isl...    6.6  \n",
       "4  On her debut LP, British producer Nabihah Iqba...    7.7  \n",
       "5  While still pointedly political, Neil Youngs ...    6.7  "
      ]
     },
     "execution_count": 6,
     "metadata": {},
     "output_type": "execute_result"
    }
   ],
   "source": [
    "data.head()"
   ]
  },
  {
   "cell_type": "markdown",
   "metadata": {},
   "source": [
    "# Overview\n",
    "The online music magazine Pitchfork describes itself as \"the most trusted voice in music\". But how trustworthy is it really? Or, in other words, is the site biased? In this project we attempt to figure this out by examining these questions:\n",
    "- How do reviews for genres change over time?\n",
    "- Is there a correlation between a song's score and it being in Pitchfork's Best New Music?\n",
    "- Is there a correlation between genre and review score?\n",
    "- Is there a correlation between genre and selection for Best New Music?\n",
    "\n",
    "The data we will use was retrieved from a database containing over 18,000 reviews from the online music magazine “Pitchfork”. This data was collected by Nolan Conaway and made publicly accessible via Kaggle."
   ]
  },
  {
   "cell_type": "markdown",
   "metadata": {},
   "source": [
    "# Data Prep"
   ]
  },
  {
   "cell_type": "markdown",
   "metadata": {},
   "source": [
    "For later convenience, we can create a GroupBy object where all reviews by a particular artist are groupped together:"
   ]
  },
  {
   "cell_type": "code",
   "execution_count": 7,
   "metadata": {},
   "outputs": [
    {
     "data": {
      "text/plain": [
       "<pandas.core.groupby.DataFrameGroupBy object at 0x1a15727e48>"
      ]
     },
     "execution_count": 7,
     "metadata": {},
     "output_type": "execute_result"
    }
   ],
   "source": [
    "grouped_by_artist = data.groupby(['artist'])\n",
    "grouped_by_artist"
   ]
  },
  {
   "cell_type": "markdown",
   "metadata": {},
   "source": [
    "Looking at our dataset, we see that there are ~800 reviews for \"Various Artists\".  At the time of analysis of artist statistics, \"Various Artists\" doesn't provide much insight as we do not know the specific artist.  So, we can remove rows where the artist is \"Various Artists\"."
   ]
  },
  {
   "cell_type": "code",
   "execution_count": 8,
   "metadata": {
    "collapsed": true
   },
   "outputs": [],
   "source": [
    "reviews_no_various_artists = data[data.artist != \"Various Artists\"]"
   ]
  },
  {
   "cell_type": "code",
   "execution_count": 9,
   "metadata": {
    "scrolled": false
   },
   "outputs": [
    {
     "name": "stderr",
     "output_type": "stream",
     "text": [
      "/Applications/anaconda3/lib/python3.6/site-packages/ipykernel_launcher.py:3: SettingWithCopyWarning: \n",
      "A value is trying to be set on a copy of a slice from a DataFrame.\n",
      "Try using .loc[row_indexer,col_indexer] = value instead\n",
      "\n",
      "See the caveats in the documentation: http://pandas.pydata.org/pandas-docs/stable/indexing.html#indexing-view-versus-copy\n",
      "  This is separate from the ipykernel package so we can avoid doing imports until\n"
     ]
    }
   ],
   "source": [
    "# Convert date column to date values\n",
    "data['date'] = pd.to_datetime(data['date'])\n",
    "reviews_no_various_artists['date'] = pd.to_datetime(reviews_no_various_artists['date'])"
   ]
  },
  {
   "cell_type": "markdown",
   "metadata": {},
   "source": [
    "For convenience sake, it may be easier to visualize the score given to an album as being out of 100.  We multiply by 10 here."
   ]
  },
  {
   "cell_type": "code",
   "execution_count": 10,
   "metadata": {
    "scrolled": false
   },
   "outputs": [
    {
     "name": "stderr",
     "output_type": "stream",
     "text": [
      "/Applications/anaconda3/lib/python3.6/site-packages/ipykernel_launcher.py:2: SettingWithCopyWarning: \n",
      "A value is trying to be set on a copy of a slice from a DataFrame.\n",
      "Try using .loc[row_indexer,col_indexer] = value instead\n",
      "\n",
      "See the caveats in the documentation: http://pandas.pydata.org/pandas-docs/stable/indexing.html#indexing-view-versus-copy\n",
      "  \n"
     ]
    }
   ],
   "source": [
    "data[\"score_of_100\"] = pd.to_numeric(data[\"score\"]*10, downcast='integer')\n",
    "reviews_no_various_artists[\"score_of_100\"] = pd.to_numeric(reviews_no_various_artists[\"score\"]*10, downcast='integer')"
   ]
  },
  {
   "cell_type": "markdown",
   "metadata": {},
   "source": [
    "# Exploration"
   ]
  },
  {
   "cell_type": "code",
   "execution_count": 11,
   "metadata": {},
   "outputs": [
    {
     "name": "stdout",
     "output_type": "stream",
     "text": [
      "7.027445666069992\n"
     ]
    }
   ],
   "source": [
    "# Calculate the mean score for all reviews -- including \"Various Artists\"\n",
    "mean_score = np.mean(data[\"score\"])\n",
    "print(mean_score)"
   ]
  },
  {
   "cell_type": "code",
   "execution_count": 12,
   "metadata": {},
   "outputs": [
    {
     "data": {
      "text/plain": [
       "genre\n",
       "Electronic      6.941318\n",
       "Experimental    7.359035\n",
       "Folk/Country    7.219857\n",
       "Global          7.434831\n",
       "Jazz            7.568482\n",
       "Metal           6.980410\n",
       "None            7.020611\n",
       "Pop/R&B         6.948315\n",
       "Rap             6.950304\n",
       "Rock            6.983616\n",
       "Name: score, dtype: float64"
      ]
     },
     "execution_count": 12,
     "metadata": {},
     "output_type": "execute_result"
    }
   ],
   "source": [
    "# Calculate the average scores for each genre.  \n",
    "groupped_by_genre = data.groupby(by=\"genre\").agg(np.mean)\n",
    "groupped_by_genre['score']"
   ]
  },
  {
   "cell_type": "code",
   "execution_count": 13,
   "metadata": {},
   "outputs": [
    {
     "data": {
      "text/html": [
       "<div>\n",
       "<style>\n",
       "    .dataframe thead tr:only-child th {\n",
       "        text-align: right;\n",
       "    }\n",
       "\n",
       "    .dataframe thead th {\n",
       "        text-align: left;\n",
       "    }\n",
       "\n",
       "    .dataframe tbody tr th {\n",
       "        vertical-align: top;\n",
       "    }\n",
       "</style>\n",
       "<table border=\"1\" class=\"dataframe\">\n",
       "  <thead>\n",
       "    <tr style=\"text-align: right;\">\n",
       "      <th></th>\n",
       "      <th>genre</th>\n",
       "      <th>count</th>\n",
       "    </tr>\n",
       "  </thead>\n",
       "  <tbody>\n",
       "    <tr>\n",
       "      <th>0</th>\n",
       "      <td>Electronic</td>\n",
       "      <td>4020</td>\n",
       "    </tr>\n",
       "    <tr>\n",
       "      <th>1</th>\n",
       "      <td>Experimental</td>\n",
       "      <td>1699</td>\n",
       "    </tr>\n",
       "    <tr>\n",
       "      <th>2</th>\n",
       "      <td>Folk/Country</td>\n",
       "      <td>700</td>\n",
       "    </tr>\n",
       "    <tr>\n",
       "      <th>3</th>\n",
       "      <td>Global</td>\n",
       "      <td>178</td>\n",
       "    </tr>\n",
       "    <tr>\n",
       "      <th>4</th>\n",
       "      <td>Jazz</td>\n",
       "      <td>257</td>\n",
       "    </tr>\n",
       "    <tr>\n",
       "      <th>5</th>\n",
       "      <td>Metal</td>\n",
       "      <td>781</td>\n",
       "    </tr>\n",
       "    <tr>\n",
       "      <th>6</th>\n",
       "      <td>None</td>\n",
       "      <td>2324</td>\n",
       "    </tr>\n",
       "    <tr>\n",
       "      <th>7</th>\n",
       "      <td>Pop/R&amp;B</td>\n",
       "      <td>1157</td>\n",
       "    </tr>\n",
       "    <tr>\n",
       "      <th>8</th>\n",
       "      <td>Rap</td>\n",
       "      <td>1481</td>\n",
       "    </tr>\n",
       "    <tr>\n",
       "      <th>9</th>\n",
       "      <td>Rock</td>\n",
       "      <td>6958</td>\n",
       "    </tr>\n",
       "  </tbody>\n",
       "</table>\n",
       "</div>"
      ],
      "text/plain": [
       "          genre  count\n",
       "0    Electronic   4020\n",
       "1  Experimental   1699\n",
       "2  Folk/Country    700\n",
       "3        Global    178\n",
       "4          Jazz    257\n",
       "5         Metal    781\n",
       "6          None   2324\n",
       "7       Pop/R&B   1157\n",
       "8           Rap   1481\n",
       "9          Rock   6958"
      ]
     },
     "execution_count": 13,
     "metadata": {},
     "output_type": "execute_result"
    }
   ],
   "source": [
    "# number of reviews in genre\n",
    "review_count = data.groupby('genre').size().reset_index(name='count')\n",
    "review_count"
   ]
  },
  {
   "cell_type": "code",
   "execution_count": 14,
   "metadata": {},
   "outputs": [
    {
     "data": {
      "text/html": [
       "<div>\n",
       "<style>\n",
       "    .dataframe thead tr:only-child th {\n",
       "        text-align: right;\n",
       "    }\n",
       "\n",
       "    .dataframe thead th {\n",
       "        text-align: left;\n",
       "    }\n",
       "\n",
       "    .dataframe tbody tr th {\n",
       "        vertical-align: top;\n",
       "    }\n",
       "</style>\n",
       "<table border=\"1\" class=\"dataframe\">\n",
       "  <thead>\n",
       "    <tr style=\"text-align: right;\">\n",
       "      <th></th>\n",
       "      <th>mean</th>\n",
       "    </tr>\n",
       "    <tr>\n",
       "      <th>genre</th>\n",
       "      <th></th>\n",
       "    </tr>\n",
       "  </thead>\n",
       "  <tbody>\n",
       "    <tr>\n",
       "      <th>Electronic</th>\n",
       "      <td>0.048010</td>\n",
       "    </tr>\n",
       "    <tr>\n",
       "      <th>Experimental</th>\n",
       "      <td>0.065333</td>\n",
       "    </tr>\n",
       "    <tr>\n",
       "      <th>Folk/Country</th>\n",
       "      <td>0.047143</td>\n",
       "    </tr>\n",
       "    <tr>\n",
       "      <th>Global</th>\n",
       "      <td>0.050562</td>\n",
       "    </tr>\n",
       "    <tr>\n",
       "      <th>Jazz</th>\n",
       "      <td>0.097276</td>\n",
       "    </tr>\n",
       "    <tr>\n",
       "      <th>Metal</th>\n",
       "      <td>0.028169</td>\n",
       "    </tr>\n",
       "    <tr>\n",
       "      <th>None</th>\n",
       "      <td>0.023666</td>\n",
       "    </tr>\n",
       "    <tr>\n",
       "      <th>Pop/R&amp;B</th>\n",
       "      <td>0.075194</td>\n",
       "    </tr>\n",
       "    <tr>\n",
       "      <th>Rap</th>\n",
       "      <td>0.055368</td>\n",
       "    </tr>\n",
       "    <tr>\n",
       "      <th>Rock</th>\n",
       "      <td>0.060793</td>\n",
       "    </tr>\n",
       "  </tbody>\n",
       "</table>\n",
       "</div>"
      ],
      "text/plain": [
       "                  mean\n",
       "genre                 \n",
       "Electronic    0.048010\n",
       "Experimental  0.065333\n",
       "Folk/Country  0.047143\n",
       "Global        0.050562\n",
       "Jazz          0.097276\n",
       "Metal         0.028169\n",
       "None          0.023666\n",
       "Pop/R&B       0.075194\n",
       "Rap           0.055368\n",
       "Rock          0.060793"
      ]
     },
     "execution_count": 14,
     "metadata": {},
     "output_type": "execute_result"
    }
   ],
   "source": [
    "# Find ratios of best new music to number of reviews in genre\n",
    "best_new_music = data[data[\"best\"] == 1]\n",
    "best_new_music_by_genre = data.groupby(['genre']).agg(['mean']) # 'Best' is either 1 or 0, so we can just average the best column\n",
    "bnm_ratios = best_new_music_by_genre['best']\n",
    "bnm_ratios"
   ]
  },
  {
   "cell_type": "markdown",
   "metadata": {},
   "source": [
    "## Numer of Reviews Per Year\n"
   ]
  },
  {
   "cell_type": "code",
   "execution_count": 15,
   "metadata": {},
   "outputs": [
    {
     "data": {
      "image/png": "[encoded data removed]",
      "text/plain": [
       "<matplotlib.figure.Figure at 0x1a0c7a6940>"
      ]
     },
     "metadata": {},
     "output_type": "display_data"
    }
   ],
   "source": [
    "# num reviews per year\n",
    "reviews_by_year = data[['review']].groupby(data['date'].dt.year).count()\n",
    "plt.figure(figsize=(25, 25))\n",
    "plt.rcParams.update({'font.size': 19})\n",
    "plt.bar(reviews_by_year.index, reviews_by_year['review'], color='orange', alpha=0.7, edgecolor='black')\n",
    "x_labels = range(1999,2018,1)\n",
    "plt.xlabel(\"Year\")\n",
    "plt.ylabel(\"Number of Reviews\")\n",
    "plt.xticks(x_labels)\n",
    "plt.title(\"Number of Reviews by Year\")\n",
    "locs, labels = plt.xticks()\n",
    "plt.setp(labels, rotation=90)\n",
    "plt.show()"
   ]
  },
  {
   "cell_type": "code",
   "execution_count": 16,
   "metadata": {},
   "outputs": [
    {
     "data": {
      "image/png": "[encoded data removed]",
      "text/plain": [
       "<matplotlib.figure.Figure at 0x1a0ce22780>"
      ]
     },
     "metadata": {},
     "output_type": "display_data"
    }
   ],
   "source": [
    "# number of reviews per genre\n",
    "plt.figure(figsize=(25, 25))\n",
    "plt.rcParams.update({'font.size': 19})\n",
    "plt.hist(data['genre'], color='orange', alpha=0.7, edgecolor='black')\n",
    "plt.title(\"Number of Reviews Per Genre\")\n",
    "plt.xlabel(\"Genre\")\n",
    "plt.ylabel(\"Number of Reviews\")\n",
    "plt.show()"
   ]
  },
  {
   "cell_type": "code",
   "execution_count": 17,
   "metadata": {},
   "outputs": [
    {
     "data": {
      "image/png": "[encoded data removed]",
      "text/plain": [
       "<matplotlib.figure.Figure at 0x1a0cb4b5c0>"
      ]
     },
     "metadata": {},
     "output_type": "display_data"
    }
   ],
   "source": [
    "# Distribution of scores\n",
    "plt.figure(figsize=(25, 25))\n",
    "plt.rcParams.update({'font.size': 19})\n",
    "plt.hist(data['score_of_100'], bins=100, color='orange', alpha=0.7, edgecolor='black')\n",
    "plt.title(\"Distribution of Scores\")\n",
    "plt.xlabel(\"Score\")\n",
    "plt.ylabel(\"Number of Reviews\")\n",
    "plt.show()"
   ]
  },
  {
   "cell_type": "code",
   "execution_count": 18,
   "metadata": {},
   "outputs": [
    {
     "ename": "LookupError",
     "evalue": "\n**********************************************************************\n  Resource \u001b[93mpunkt\u001b[0m not found.\n  Please use the NLTK Downloader to obtain the resource:\n\n  \u001b[31m>>> import nltk\n  >>> nltk.download('punkt')\n  \u001b[0m\n  Searched in:\n    - '/Users/Allie 1/nltk_data'\n    - '/usr/share/nltk_data'\n    - '/usr/local/share/nltk_data'\n    - '/usr/lib/nltk_data'\n    - '/usr/local/lib/nltk_data'\n    - '/Applications/anaconda3/nltk_data'\n    - '/Applications/anaconda3/lib/nltk_data'\n    - ''\n**********************************************************************\n",
     "output_type": "error",
     "traceback": [
      "\u001b[0;31m---------------------------------------------------------------------------\u001b[0m",
      "\u001b[0;31mLookupError\u001b[0m                               Traceback (most recent call last)",
      "\u001b[0;32m<ipython-input-18-271c03965020>\u001b[0m in \u001b[0;36m<module>\u001b[0;34m()\u001b[0m\n\u001b[1;32m      2\u001b[0m \u001b[0mcount_array\u001b[0m \u001b[0;34m=\u001b[0m \u001b[0;34m[\u001b[0m\u001b[0;34m]\u001b[0m\u001b[0;34m\u001b[0m\u001b[0m\n\u001b[1;32m      3\u001b[0m \u001b[0;32mfor\u001b[0m \u001b[0mi\u001b[0m \u001b[0;32min\u001b[0m \u001b[0mdata\u001b[0m\u001b[0;34m.\u001b[0m\u001b[0mindex\u001b[0m\u001b[0;34m:\u001b[0m\u001b[0;34m\u001b[0m\u001b[0m\n\u001b[0;32m----> 4\u001b[0;31m     \u001b[0mcount\u001b[0m \u001b[0;34m=\u001b[0m \u001b[0mlen\u001b[0m\u001b[0;34m(\u001b[0m\u001b[0mnltk\u001b[0m\u001b[0;34m.\u001b[0m\u001b[0mword_tokenize\u001b[0m\u001b[0;34m(\u001b[0m\u001b[0mstr\u001b[0m\u001b[0;34m(\u001b[0m\u001b[0mdata\u001b[0m\u001b[0;34m[\u001b[0m\u001b[0;34m\"review\"\u001b[0m\u001b[0;34m]\u001b[0m\u001b[0;34m[\u001b[0m\u001b[0mi\u001b[0m\u001b[0;34m]\u001b[0m\u001b[0;34m)\u001b[0m\u001b[0;34m)\u001b[0m\u001b[0;34m)\u001b[0m\u001b[0;34m\u001b[0m\u001b[0m\n\u001b[0m\u001b[1;32m      5\u001b[0m     \u001b[0mcount_array\u001b[0m\u001b[0;34m.\u001b[0m\u001b[0mappend\u001b[0m\u001b[0;34m(\u001b[0m\u001b[0mcount\u001b[0m\u001b[0;34m)\u001b[0m\u001b[0;34m\u001b[0m\u001b[0m\n\u001b[1;32m      6\u001b[0m \u001b[0mdata\u001b[0m\u001b[0;34m[\u001b[0m\u001b[0;34m\"review_word_count\"\u001b[0m\u001b[0;34m]\u001b[0m \u001b[0;34m=\u001b[0m \u001b[0mcount_array\u001b[0m\u001b[0;34m\u001b[0m\u001b[0m\n",
      "\u001b[0;32m/Applications/anaconda3/lib/python3.6/site-packages/nltk/tokenize/__init__.py\u001b[0m in \u001b[0;36mword_tokenize\u001b[0;34m(text, language, preserve_line)\u001b[0m\n\u001b[1;32m    126\u001b[0m     \u001b[0;34m:\u001b[0m\u001b[0mtype\u001b[0m \u001b[0mpreserver_line\u001b[0m\u001b[0;34m:\u001b[0m \u001b[0mbool\u001b[0m\u001b[0;34m\u001b[0m\u001b[0m\n\u001b[1;32m    127\u001b[0m     \"\"\"\n\u001b[0;32m--> 128\u001b[0;31m     \u001b[0msentences\u001b[0m \u001b[0;34m=\u001b[0m \u001b[0;34m[\u001b[0m\u001b[0mtext\u001b[0m\u001b[0;34m]\u001b[0m \u001b[0;32mif\u001b[0m \u001b[0mpreserve_line\u001b[0m \u001b[0;32melse\u001b[0m \u001b[0msent_tokenize\u001b[0m\u001b[0;34m(\u001b[0m\u001b[0mtext\u001b[0m\u001b[0;34m,\u001b[0m \u001b[0mlanguage\u001b[0m\u001b[0;34m)\u001b[0m\u001b[0;34m\u001b[0m\u001b[0m\n\u001b[0m\u001b[1;32m    129\u001b[0m     return [token for sent in sentences\n\u001b[1;32m    130\u001b[0m             for token in _treebank_word_tokenizer.tokenize(sent)]\n",
      "\u001b[0;32m/Applications/anaconda3/lib/python3.6/site-packages/nltk/tokenize/__init__.py\u001b[0m in \u001b[0;36msent_tokenize\u001b[0;34m(text, language)\u001b[0m\n\u001b[1;32m     92\u001b[0m     \u001b[0;34m:\u001b[0m\u001b[0mparam\u001b[0m \u001b[0mlanguage\u001b[0m\u001b[0;34m:\u001b[0m \u001b[0mthe\u001b[0m \u001b[0mmodel\u001b[0m \u001b[0mname\u001b[0m \u001b[0;32min\u001b[0m \u001b[0mthe\u001b[0m \u001b[0mPunkt\u001b[0m \u001b[0mcorpus\u001b[0m\u001b[0;34m\u001b[0m\u001b[0m\n\u001b[1;32m     93\u001b[0m     \"\"\"\n\u001b[0;32m---> 94\u001b[0;31m     \u001b[0mtokenizer\u001b[0m \u001b[0;34m=\u001b[0m \u001b[0mload\u001b[0m\u001b[0;34m(\u001b[0m\u001b[0;34m'tokenizers/punkt/{0}.pickle'\u001b[0m\u001b[0;34m.\u001b[0m\u001b[0mformat\u001b[0m\u001b[0;34m(\u001b[0m\u001b[0mlanguage\u001b[0m\u001b[0;34m)\u001b[0m\u001b[0;34m)\u001b[0m\u001b[0;34m\u001b[0m\u001b[0m\n\u001b[0m\u001b[1;32m     95\u001b[0m     \u001b[0;32mreturn\u001b[0m \u001b[0mtokenizer\u001b[0m\u001b[0;34m.\u001b[0m\u001b[0mtokenize\u001b[0m\u001b[0;34m(\u001b[0m\u001b[0mtext\u001b[0m\u001b[0;34m)\u001b[0m\u001b[0;34m\u001b[0m\u001b[0m\n\u001b[1;32m     96\u001b[0m \u001b[0;34m\u001b[0m\u001b[0m\n",
      "\u001b[0;32m/Applications/anaconda3/lib/python3.6/site-packages/nltk/data.py\u001b[0m in \u001b[0;36mload\u001b[0;34m(resource_url, format, cache, verbose, logic_parser, fstruct_reader, encoding)\u001b[0m\n\u001b[1;32m    832\u001b[0m \u001b[0;34m\u001b[0m\u001b[0m\n\u001b[1;32m    833\u001b[0m     \u001b[0;31m# Load the resource.\u001b[0m\u001b[0;34m\u001b[0m\u001b[0;34m\u001b[0m\u001b[0m\n\u001b[0;32m--> 834\u001b[0;31m     \u001b[0mopened_resource\u001b[0m \u001b[0;34m=\u001b[0m \u001b[0m_open\u001b[0m\u001b[0;34m(\u001b[0m\u001b[0mresource_url\u001b[0m\u001b[0;34m)\u001b[0m\u001b[0;34m\u001b[0m\u001b[0m\n\u001b[0m\u001b[1;32m    835\u001b[0m \u001b[0;34m\u001b[0m\u001b[0m\n\u001b[1;32m    836\u001b[0m     \u001b[0;32mif\u001b[0m \u001b[0mformat\u001b[0m \u001b[0;34m==\u001b[0m \u001b[0;34m'raw'\u001b[0m\u001b[0;34m:\u001b[0m\u001b[0;34m\u001b[0m\u001b[0m\n",
      "\u001b[0;32m/Applications/anaconda3/lib/python3.6/site-packages/nltk/data.py\u001b[0m in \u001b[0;36m_open\u001b[0;34m(resource_url)\u001b[0m\n\u001b[1;32m    950\u001b[0m \u001b[0;34m\u001b[0m\u001b[0m\n\u001b[1;32m    951\u001b[0m     \u001b[0;32mif\u001b[0m \u001b[0mprotocol\u001b[0m \u001b[0;32mis\u001b[0m \u001b[0;32mNone\u001b[0m \u001b[0;32mor\u001b[0m \u001b[0mprotocol\u001b[0m\u001b[0;34m.\u001b[0m\u001b[0mlower\u001b[0m\u001b[0;34m(\u001b[0m\u001b[0;34m)\u001b[0m \u001b[0;34m==\u001b[0m \u001b[0;34m'nltk'\u001b[0m\u001b[0;34m:\u001b[0m\u001b[0;34m\u001b[0m\u001b[0m\n\u001b[0;32m--> 952\u001b[0;31m         \u001b[0;32mreturn\u001b[0m \u001b[0mfind\u001b[0m\u001b[0;34m(\u001b[0m\u001b[0mpath_\u001b[0m\u001b[0;34m,\u001b[0m \u001b[0mpath\u001b[0m \u001b[0;34m+\u001b[0m \u001b[0;34m[\u001b[0m\u001b[0;34m''\u001b[0m\u001b[0;34m]\u001b[0m\u001b[0;34m)\u001b[0m\u001b[0;34m.\u001b[0m\u001b[0mopen\u001b[0m\u001b[0;34m(\u001b[0m\u001b[0;34m)\u001b[0m\u001b[0;34m\u001b[0m\u001b[0m\n\u001b[0m\u001b[1;32m    953\u001b[0m     \u001b[0;32melif\u001b[0m \u001b[0mprotocol\u001b[0m\u001b[0;34m.\u001b[0m\u001b[0mlower\u001b[0m\u001b[0;34m(\u001b[0m\u001b[0;34m)\u001b[0m \u001b[0;34m==\u001b[0m \u001b[0;34m'file'\u001b[0m\u001b[0;34m:\u001b[0m\u001b[0;34m\u001b[0m\u001b[0m\n\u001b[1;32m    954\u001b[0m         \u001b[0;31m# urllib might not use mode='rb', so handle this one ourselves:\u001b[0m\u001b[0;34m\u001b[0m\u001b[0;34m\u001b[0m\u001b[0m\n",
      "\u001b[0;32m/Applications/anaconda3/lib/python3.6/site-packages/nltk/data.py\u001b[0m in \u001b[0;36mfind\u001b[0;34m(resource_name, paths)\u001b[0m\n\u001b[1;32m    671\u001b[0m     \u001b[0msep\u001b[0m \u001b[0;34m=\u001b[0m \u001b[0;34m'*'\u001b[0m \u001b[0;34m*\u001b[0m \u001b[0;36m70\u001b[0m\u001b[0;34m\u001b[0m\u001b[0m\n\u001b[1;32m    672\u001b[0m     \u001b[0mresource_not_found\u001b[0m \u001b[0;34m=\u001b[0m \u001b[0;34m'\\n%s\\n%s\\n%s\\n'\u001b[0m \u001b[0;34m%\u001b[0m \u001b[0;34m(\u001b[0m\u001b[0msep\u001b[0m\u001b[0;34m,\u001b[0m \u001b[0mmsg\u001b[0m\u001b[0;34m,\u001b[0m \u001b[0msep\u001b[0m\u001b[0;34m)\u001b[0m\u001b[0;34m\u001b[0m\u001b[0m\n\u001b[0;32m--> 673\u001b[0;31m     \u001b[0;32mraise\u001b[0m \u001b[0mLookupError\u001b[0m\u001b[0;34m(\u001b[0m\u001b[0mresource_not_found\u001b[0m\u001b[0;34m)\u001b[0m\u001b[0;34m\u001b[0m\u001b[0m\n\u001b[0m\u001b[1;32m    674\u001b[0m \u001b[0;34m\u001b[0m\u001b[0m\n\u001b[1;32m    675\u001b[0m \u001b[0;34m\u001b[0m\u001b[0m\n",
      "\u001b[0;31mLookupError\u001b[0m: \n**********************************************************************\n  Resource \u001b[93mpunkt\u001b[0m not found.\n  Please use the NLTK Downloader to obtain the resource:\n\n  \u001b[31m>>> import nltk\n  >>> nltk.download('punkt')\n  \u001b[0m\n  Searched in:\n    - '/Users/Allie 1/nltk_data'\n    - '/usr/share/nltk_data'\n    - '/usr/local/share/nltk_data'\n    - '/usr/lib/nltk_data'\n    - '/usr/local/lib/nltk_data'\n    - '/Applications/anaconda3/nltk_data'\n    - '/Applications/anaconda3/lib/nltk_data'\n    - ''\n**********************************************************************\n"
     ]
    }
   ],
   "source": [
    "# Count the words in the reviews -- takes a long time\n",
    "count_array = []\n",
    "for i in data.index:\n",
    "    count = len(nltk.word_tokenize(str(data[\"review\"][i])))\n",
    "    count_array.append(count)\n",
    "data[\"review_word_count\"] = count_array"
   ]
  },
  {
   "cell_type": "code",
   "execution_count": null,
   "metadata": {},
   "outputs": [],
   "source": [
    "# Distribution of word count for reviews\n",
    "plt.figure(figsize=(25, 25))\n",
    "plt.rcParams.update({'font.size': 19})\n",
    "plt.hist(data['review_word_count'], color='orange', alpha=0.7, edgecolor='black')\n",
    "plt.title(\"Histogram of Review word count\")\n",
    "plt.xlabel(\"Number of words\")\n",
    "plt.ylabel(\"Number of Reviews\")\n",
    "plt.show()"
   ]
  },
  {
   "cell_type": "code",
   "execution_count": null,
   "metadata": {},
   "outputs": [],
   "source": [
    "# Average score for each genre\n",
    "plt.figure(figsize=(25, 25))\n",
    "plt.rcParams.update({'font.size': 19})\n",
    "plt.bar(groupped_by_genre.index, groupped_by_genre['score'], color='orange', alpha=0.7, edgecolor='black')\n",
    "plt.title(\"Average score by genre\")\n",
    "plt.xlabel(\"Score\")\n",
    "plt.ylabel(\"Genre\")\n",
    "plt.show()"
   ]
  },
  {
   "cell_type": "code",
   "execution_count": null,
   "metadata": {
    "collapsed": true
   },
   "outputs": [],
   "source": [
    "genres = data.loc[data['genre'] == 'Rock']\n",
    "genres = genres.groupby(data['date'].dt.year).aggregate('mean')"
   ]
  },
  {
   "cell_type": "code",
   "execution_count": null,
   "metadata": {},
   "outputs": [],
   "source": [
    "# Mean score by genre by year\n",
    "fig, ax = plt.subplots()\n",
    "fig.set_size_inches(20, 20)\n",
    "for genre in data['genre'].unique():\n",
    "    if genre != 'None':\n",
    "        genres = data.loc[data['genre'] == genre]\n",
    "        genres = genres.groupby(data['date'].dt.year).aggregate('mean')\n",
    "        ax.scatter(genres.index, genres['score'], label=None)\n",
    "        ax.plot(genres.index, genres['score'], label=genre)\n",
    "x_labels = range(1999,2018,1)\n",
    "plt.xlabel(\"Year\")\n",
    "plt.ylabel(\"Number of Reviews\")\n",
    "plt.xticks(x_labels)\n",
    "plt.title(\"Mean Score By Genre By Year\")\n",
    "locs, labels = plt.xticks()\n",
    "plt.setp(labels, rotation=90)\n",
    "plt.legend()\n",
    "plt.rcParams.update({'font.size': 15})\n",
    "plt.show()"
   ]
  },
  {
   "cell_type": "code",
   "execution_count": null,
   "metadata": {},
   "outputs": [],
   "source": [
    "# Number of albums per genre over time\n",
    "fig, ax = plt.subplots()\n",
    "fig.set_size_inches(20, 20)\n",
    "for genre in data['genre'].unique():\n",
    "    if genre != 'None':\n",
    "        genres = data.loc[data['genre'] == genre]\n",
    "        genres = genres.groupby(data['date'].dt.year).aggregate('count')\n",
    "        ax.scatter(genres.index, genres['score'], label=None)\n",
    "        ax.plot(genres.index, genres['score'], label=genre)\n",
    "    \n",
    "x_labels = range(1999,2018,1)\n",
    "plt.xlabel(\"Year\")\n",
    "plt.ylabel(\"Number of Reviews\")\n",
    "plt.xticks(x_labels)\n",
    "plt.title(\"Number of Reviews by Year\")\n",
    "locs, labels = plt.xticks()\n",
    "plt.setp(labels, rotation=90)\n",
    "plt.legend()\n",
    "plt.rcParams.update({'font.size': 15})\n",
    "plt.show()"
   ]
  },
  {
   "cell_type": "code",
   "execution_count": null,
   "metadata": {},
   "outputs": [],
   "source": [
    "# Selects a random sample of reviews for artists (excluding \"Various Artists\")\n",
    "sample = reviews_no_various_artists.sample(n=10, random_state=0)\n",
    "plt.figure(figsize=(25, 10))\n",
    "sns.stripplot(x=sample['artist'], y=sample['score'], jitter=True)\n",
    "plt.show()"
   ]
  },
  {
   "cell_type": "markdown",
   "metadata": {},
   "source": [
    "# Analysis"
   ]
  },
  {
   "cell_type": "code",
   "execution_count": 19,
   "metadata": {},
   "outputs": [
    {
     "data": {
      "text/html": [
       "<table class=\"simpletable\">\n",
       "<caption>OLS Regression Results</caption>\n",
       "<tr>\n",
       "  <th>Dep. Variable:</th>          <td>best</td>       <th>  R-squared:         </th> <td>   0.098</td>\n",
       "</tr>\n",
       "<tr>\n",
       "  <th>Model:</th>                   <td>OLS</td>       <th>  Adj. R-squared:    </th> <td>   0.098</td>\n",
       "</tr>\n",
       "<tr>\n",
       "  <th>Method:</th>             <td>Least Squares</td>  <th>  F-statistic:       </th> <td>   213.1</td>\n",
       "</tr>\n",
       "<tr>\n",
       "  <th>Date:</th>             <td>Wed, 07 Mar 2018</td> <th>  Prob (F-statistic):</th>  <td>  0.00</td> \n",
       "</tr>\n",
       "<tr>\n",
       "  <th>Time:</th>                 <td>17:05:33</td>     <th>  Log-Likelihood:    </th> <td>  2486.1</td>\n",
       "</tr>\n",
       "<tr>\n",
       "  <th>No. Observations:</th>      <td> 19555</td>      <th>  AIC:               </th> <td>  -4950.</td>\n",
       "</tr>\n",
       "<tr>\n",
       "  <th>Df Residuals:</th>          <td> 19544</td>      <th>  BIC:               </th> <td>  -4864.</td>\n",
       "</tr>\n",
       "<tr>\n",
       "  <th>Df Model:</th>              <td>    10</td>      <th>                     </th>     <td> </td>   \n",
       "</tr>\n",
       "<tr>\n",
       "  <th>Covariance Type:</th>      <td>nonrobust</td>    <th>                     </th>     <td> </td>   \n",
       "</tr>\n",
       "</table>\n",
       "<table class=\"simpletable\">\n",
       "<tr>\n",
       "            <td></td>               <th>coef</th>     <th>std err</th>      <th>t</th>      <th>P>|t|</th>  <th>[0.025</th>    <th>0.975]</th>  \n",
       "</tr>\n",
       "<tr>\n",
       "  <th>Intercept</th>             <td>   -0.3278</td> <td>    0.009</td> <td>  -36.488</td> <td> 0.000</td> <td>   -0.345</td> <td>   -0.310</td>\n",
       "</tr>\n",
       "<tr>\n",
       "  <th>genre[T.Experimental]</th> <td>   -0.0053</td> <td>    0.006</td> <td>   -0.855</td> <td> 0.392</td> <td>   -0.017</td> <td>    0.007</td>\n",
       "</tr>\n",
       "<tr>\n",
       "  <th>genre[T.Folk/Country]</th> <td>   -0.0159</td> <td>    0.009</td> <td>   -1.826</td> <td> 0.068</td> <td>   -0.033</td> <td>    0.001</td>\n",
       "</tr>\n",
       "<tr>\n",
       "  <th>genre[T.Global]</th>       <td>   -0.0242</td> <td>    0.016</td> <td>   -1.479</td> <td> 0.139</td> <td>   -0.056</td> <td>    0.008</td>\n",
       "</tr>\n",
       "<tr>\n",
       "  <th>genre[T.Jazz]</th>         <td>    0.0153</td> <td>    0.014</td> <td>    1.115</td> <td> 0.265</td> <td>   -0.012</td> <td>    0.042</td>\n",
       "</tr>\n",
       "<tr>\n",
       "  <th>genre[T.Metal]</th>        <td>   -0.0220</td> <td>    0.008</td> <td>   -2.634</td> <td> 0.008</td> <td>   -0.038</td> <td>   -0.006</td>\n",
       "</tr>\n",
       "<tr>\n",
       "  <th>genre[T.None]</th>         <td>   -0.0286</td> <td>    0.006</td> <td>   -5.155</td> <td> 0.000</td> <td>   -0.040</td> <td>   -0.018</td>\n",
       "</tr>\n",
       "<tr>\n",
       "  <th>genre[T.Pop/R&B]</th>      <td>    0.0268</td> <td>    0.007</td> <td>    3.770</td> <td> 0.000</td> <td>    0.013</td> <td>    0.041</td>\n",
       "</tr>\n",
       "<tr>\n",
       "  <th>genre[T.Rap]</th>          <td>    0.0069</td> <td>    0.006</td> <td>    1.061</td> <td> 0.289</td> <td>   -0.006</td> <td>    0.020</td>\n",
       "</tr>\n",
       "<tr>\n",
       "  <th>genre[T.Rock]</th>         <td>    0.0105</td> <td>    0.004</td> <td>    2.485</td> <td> 0.013</td> <td>    0.002</td> <td>    0.019</td>\n",
       "</tr>\n",
       "<tr>\n",
       "  <th>score</th>                 <td>    0.0541</td> <td>    0.001</td> <td>   45.109</td> <td> 0.000</td> <td>    0.052</td> <td>    0.056</td>\n",
       "</tr>\n",
       "</table>\n",
       "<table class=\"simpletable\">\n",
       "<tr>\n",
       "  <th>Omnibus:</th>       <td>13456.538</td> <th>  Durbin-Watson:     </th>  <td>   2.041</td> \n",
       "</tr>\n",
       "<tr>\n",
       "  <th>Prob(Omnibus):</th>  <td> 0.000</td>   <th>  Jarque-Bera (JB):  </th> <td>133561.087</td>\n",
       "</tr>\n",
       "<tr>\n",
       "  <th>Skew:</th>           <td> 3.396</td>   <th>  Prob(JB):          </th>  <td>    0.00</td> \n",
       "</tr>\n",
       "<tr>\n",
       "  <th>Kurtosis:</th>       <td>13.854</td>   <th>  Cond. No.          </th>  <td>    78.9</td> \n",
       "</tr>\n",
       "</table>"
      ],
      "text/plain": [
       "<class 'statsmodels.iolib.summary.Summary'>\n",
       "\"\"\"\n",
       "                            OLS Regression Results                            \n",
       "==============================================================================\n",
       "Dep. Variable:                   best   R-squared:                       0.098\n",
       "Model:                            OLS   Adj. R-squared:                  0.098\n",
       "Method:                 Least Squares   F-statistic:                     213.1\n",
       "Date:                Wed, 07 Mar 2018   Prob (F-statistic):               0.00\n",
       "Time:                        17:05:33   Log-Likelihood:                 2486.1\n",
       "No. Observations:               19555   AIC:                            -4950.\n",
       "Df Residuals:                   19544   BIC:                            -4864.\n",
       "Df Model:                          10                                         \n",
       "Covariance Type:            nonrobust                                         \n",
       "=========================================================================================\n",
       "                            coef    std err          t      P>|t|      [0.025      0.975]\n",
       "-----------------------------------------------------------------------------------------\n",
       "Intercept                -0.3278      0.009    -36.488      0.000      -0.345      -0.310\n",
       "genre[T.Experimental]    -0.0053      0.006     -0.855      0.392      -0.017       0.007\n",
       "genre[T.Folk/Country]    -0.0159      0.009     -1.826      0.068      -0.033       0.001\n",
       "genre[T.Global]          -0.0242      0.016     -1.479      0.139      -0.056       0.008\n",
       "genre[T.Jazz]             0.0153      0.014      1.115      0.265      -0.012       0.042\n",
       "genre[T.Metal]           -0.0220      0.008     -2.634      0.008      -0.038      -0.006\n",
       "genre[T.None]            -0.0286      0.006     -5.155      0.000      -0.040      -0.018\n",
       "genre[T.Pop/R&B]          0.0268      0.007      3.770      0.000       0.013       0.041\n",
       "genre[T.Rap]              0.0069      0.006      1.061      0.289      -0.006       0.020\n",
       "genre[T.Rock]             0.0105      0.004      2.485      0.013       0.002       0.019\n",
       "score                     0.0541      0.001     45.109      0.000       0.052       0.056\n",
       "==============================================================================\n",
       "Omnibus:                    13456.538   Durbin-Watson:                   2.041\n",
       "Prob(Omnibus):                  0.000   Jarque-Bera (JB):           133561.087\n",
       "Skew:                           3.396   Prob(JB):                         0.00\n",
       "Kurtosis:                      13.854   Cond. No.                         78.9\n",
       "==============================================================================\n",
       "\n",
       "Warnings:\n",
       "[1] Standard Errors assume that the covariance matrix of the errors is correctly specified.\n",
       "\"\"\""
      ]
     },
     "execution_count": 19,
     "metadata": {},
     "output_type": "execute_result"
    }
   ],
   "source": [
    "#Let's see if we can find any statistically significant relationships using linear modeling\n",
    "mod = smf.ols(formula= 'best ~ score + genre', data=data)\n",
    "res = mod.fit()\n",
    "\n",
    "res.summary()"
   ]
  },
  {
   "cell_type": "code",
   "execution_count": null,
   "metadata": {
    "collapsed": true
   },
   "outputs": [],
   "source": [
    "\n"
   ]
  }
 ],
 "metadata": {
  "kernelspec": {
   "display_name": "Python 3",
   "language": "python",
   "name": "python3"
  },
  "language_info": {
   "codemirror_mode": {
    "name": "ipython",
    "version": 3
   },
   "file_extension": ".py",
   "mimetype": "text/x-python",
   "name": "python",
   "nbconvert_exporter": "python",
   "pygments_lexer": "ipython3",
   "version": "3.6.3"
  }
 },
 "nbformat": 4,
 "nbformat_minor": 2
}
